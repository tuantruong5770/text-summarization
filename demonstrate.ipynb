{
 "cells": [
  {
   "cell_type": "markdown",
   "metadata": {},
   "source": [
    "***LOAD SAMPLE DATA***"
   ]
  },
  {
   "cell_type": "code",
   "execution_count": 11,
   "metadata": {},
   "outputs": [],
   "source": [
    "import json\n",
    "\n",
    "device = torch.device('cuda' if torch.cuda.is_available() else 'cpu')\n",
    "\n",
    "with open('./samples/1.json', 'r') as f:\n",
    "    data1 = json.load(f)\n",
    "with open('./samples/2.json', 'r') as f:\n",
    "    data2 = json.load(f)\n",
    "with open('./samples/3.json', 'r') as f:\n",
    "    data3 = json.load(f)\n",
    "with open('./samples/4.json', 'r') as f:\n",
    "    data4 = json.load(f)\n",
    "\n",
    "data1_text = data1[0]\n",
    "data1_summary = data1[1]\n",
    "data1_label = data1[2]\n",
    "\n",
    "data2_text = data2[0]\n",
    "data2_summary = data2[1]\n",
    "data2_label = data2[2]\n",
    "\n",
    "data3_text = data3[0]\n",
    "data3_summary = data3[1]\n",
    "data3_label = data3[2]\n",
    "\n",
    "data4_text = data4[0]\n",
    "data4_summary = data4[1]\n",
    "data4_label = data4[2]"
   ]
  },
  {
   "cell_type": "markdown",
   "metadata": {},
   "source": [
    "***LOAD MAIN MODEL***"
   ]
  },
  {
   "cell_type": "code",
   "execution_count": 2,
   "metadata": {},
   "outputs": [],
   "source": [
    "from word2vec_helper import Word2VecHelper\n",
    "from model.SummaryExtractor import SummaryExtractor\n",
    "from model.ExtractorWrapper import ExtractorWrapper\n",
    "import torch\n",
    "\n",
    "model_name = '14-03-2022_01-52-52_cnn_dailymail'\n",
    "word2v = Word2VecHelper.load_model(f'cnn_dailymail_128_min5')\n",
    "word_to_index = Word2VecHelper.get_word_to_index(word2v, top_k=30000)\n",
    "model = SummaryExtractor().to(device)\n",
    "checkpoint = torch.load(f'./pretrained/{model_name}.pt')\n",
    "model.load_state_dict(checkpoint)\n",
    "model_wrapper = ExtractorWrapper(model, word_to_index)"
   ]
  },
  {
   "cell_type": "markdown",
   "metadata": {},
   "source": [
    "***LOAD BASE MODEL***"
   ]
  },
  {
   "cell_type": "code",
   "execution_count": 3,
   "metadata": {},
   "outputs": [],
   "source": [
    "from model.FFSumarryExtractor import FFSummaryExtractor\n",
    "from model.FFExtractorWrapper import FFExtractorWrapper\n",
    "\n",
    "model_name = '14-03-2022_20-45-21_cnn_dailymail'\n",
    "word2v = Word2VecHelper.load_model(f'cnn_dailymail_128_min5')\n",
    "word_to_index = Word2VecHelper.get_word_to_index(word2v, top_k=30000)\n",
    "model = FFSummaryExtractor().to(device)\n",
    "checkpoint = torch.load(f'./pretrained/{model_name}.pt')\n",
    "model.load_state_dict(checkpoint)\n",
    "base_model_wrapper = FFExtractorWrapper(model, word_to_index)"
   ]
  },
  {
   "cell_type": "markdown",
   "metadata": {},
   "source": [
    "***TESTING***"
   ]
  },
  {
   "cell_type": "code",
   "execution_count": 18,
   "metadata": {},
   "outputs": [
    {
     "name": "stdout",
     "output_type": "stream",
     "text": [
      "DATA INDEX: 16\n",
      "~*~*~*~*~*~*~*~*~*~*~*~*~ GROUND TRUTH ~*~*~*~*~*~*~*~*~*~*~*~*~\n",
      "arsenal take on stoke city in barclays under 21 premier league clash .\n",
      "jack wilshere and club captain mikel arteta have been out since november .\n",
      "abou diaby has been ravaged by injuries during nine-year spell at club .\n",
      "arteta , wilshere and diaby are all close to first-team returns .\n",
      "young winger serge gnabry also in the side on return from injury .\n",
      "read : arsenal 's alex oxlade-chamberlain , calum chambers , jack wilshere and danny welbeck keep their agents close .\n",
      "click here for all the latest arsenal news .\n",
      "*~*~*~*~*~*~*~*~*~*~*~*~ LABELED SUMMARY ~*~*~*~*~*~*~*~*~*~*~*~\n",
      "steve gatting 's young gunners take on stoke city at the emirates stadium in a u21 premier league clash .\n",
      "arsenal 's midfield trio jack wilshere , mikel arteta and abou diaby have all been handed starts for the club 's under 21s game on tuesday night as they continue their respective recoveries from injury .\n",
      "abou diaby has been blighted by injuries for the best part of a decade but played last week in a friendly .\n",
      "iliev , maitland-niles , o ’ connor , bielik , ormonde-ottewill , diaby , arteta , gnabry , wilshere , crowley , iwobi .\n",
      "teenage winger serge gnabry is also in the starting line-up , alongside a host of promising youngsters including dan crowley .\n",
      "jack wilshere , pictured in first team training last week , starts for arsenal under 21s on tuesday night .\n",
      "wilshere watched arsenal beat liverpool 4-1 in the premier league from the stands on saturday afternoon .\n",
      "~*~*~*~*~*~*~*~*~*~*~*~ GENERATED SUMMARY ~*~*~*~*~*~*~*~*~*~*~*\n",
      "arsenal 's midfield trio jack wilshere , mikel arteta and abou diaby have all been handed starts for the club 's under 21s game on tuesday night as they continue their respective recoveries from injury .\n",
      "arsenal 's midfield trio jack wilshere , mikel arteta and abou diaby have all been handed starts for the club 's under 21s game on tuesday night as they continue their respective recoveries from injury .\n",
      "wilshere has been out of action since november after breaking his foot against manchester united , as has club captain arteta who picked up an ankle injury at home to borussia dortmund .\n",
      "wilshere has been out of action since november after breaking his foot against manchester united , as has club captain arteta who picked up an ankle injury at home to borussia dortmund .\n",
      "all three featured in last week 's practice match against a brentford development xi , with england international wilshere scoring in the 4-0 victory .\n",
      "all three featured in last week 's practice match against a brentford development xi , with england international wilshere scoring in the 4-0 victory .\n",
      "wilshere has been out of action since november after breaking his foot against manchester united , as has club captain arteta who picked up an ankle injury at home to borussia dortmund .\n",
      "~*~*~*~*~*~*~*~*~* GENERATED SUMMARY (NO DUP) ~*~*~*~*~*~*~*~*~*\n",
      "arsenal 's midfield trio jack wilshere , mikel arteta and abou diaby have all been handed starts for the club 's under 21s game on tuesday night as they continue their respective recoveries from injury .\n",
      "steve gatting 's young gunners take on stoke city at the emirates stadium in a u21 premier league clash .\n",
      "wilshere has been out of action since november after breaking his foot against manchester united , as has club captain arteta who picked up an ankle injury at home to borussia dortmund .\n",
      "all three featured in last week 's practice match against a brentford development xi , with england international wilshere scoring in the 4-0 victory .\n",
      "teenage winger serge gnabry is also in the starting line-up , alongside a host of promising youngsters including dan crowley .\n",
      "club captain mikel arteta ( left ) is also in the team to play against stoke city at the emirates stadium .\n",
      "mathieu debuchy and mathieu flamini also appeared in that game , though both are now closer to first team action with the latter coming on against liverpool on saturday .\n"
     ]
    }
   ],
   "source": [
    "model_wrapper.comprehensive_test(data1_text, data1_summary, data1_label, 16)"
   ]
  },
  {
   "cell_type": "code",
   "execution_count": 19,
   "metadata": {},
   "outputs": [
    {
     "name": "stdout",
     "output_type": "stream",
     "text": [
      "DATA INDEX: 25\n",
      "~*~*~*~*~*~*~*~*~*~*~*~*~ GROUND TRUTH ~*~*~*~*~*~*~*~*~*~*~*~*~\n",
      "farage claims pm has been secretly using hair dye to turn back the years .\n",
      "he said : 'any man who can reverse the greying process i ’ m jealous of' the pm has been accused of visiting stylists to keep hair looking youthful .\n",
      "*~*~*~*~*~*~*~*~*~*~*~*~ LABELED SUMMARY ~*~*~*~*~*~*~*~*~*~*~*~\n",
      "david cameron has been secretly using hair dye to turn back the years nigel farage suggested today .\n",
      "some people it worries to death and others really don ’ t worry too much. ’ mr cameron , 48 , has previously been accused of visiting stylists and even trichologists to keep his hair looking youthful .\n",
      "~*~*~*~*~*~*~*~*~*~*~*~ GENERATED SUMMARY ~*~*~*~*~*~*~*~*~*~*~*\n",
      "in a dig at the prime minister , the ukip leader said that he was ‘ jealous ’ of how the tory leader has reversed the greying process while in downing street .\n",
      "after clashing at last week ’ s televised leaders debate , mr farage said he had shaken mr cameron ’ s hand and ‘ complimented him on his appearance ’ .\n",
      "~*~*~*~*~*~*~*~*~* GENERATED SUMMARY (NO DUP) ~*~*~*~*~*~*~*~*~*\n",
      "in a dig at the prime minister , the ukip leader said that he was ‘ jealous ’ of how the tory leader has reversed the greying process while in downing street .\n",
      "after clashing at last week ’ s televised leaders debate , mr farage said he had shaken mr cameron ’ s hand and ‘ complimented him on his appearance ’ .\n"
     ]
    }
   ],
   "source": [
    "model_wrapper.comprehensive_test(data2_text, data2_summary, data2_label, 25)"
   ]
  },
  {
   "cell_type": "code",
   "execution_count": 20,
   "metadata": {},
   "outputs": [
    {
     "name": "stdout",
     "output_type": "stream",
     "text": [
      "DATA INDEX: 55\n",
      "~*~*~*~*~*~*~*~*~*~*~*~*~ GROUND TRUTH ~*~*~*~*~*~*~*~*~*~*~*~*~\n",
      "englishman danny willett blasts timing referee for getting in line-of-sight .\n",
      "vented anger at official as he bogeyed the 17th at 2015 masters .\n",
      "willett carded a one-under 71 on opening round in first time at augusta .\n",
      "*~*~*~*~*~*~*~*~*~*~*~*~ LABELED SUMMARY ~*~*~*~*~*~*~*~*~*~*~*~\n",
      "danny willett gave a rules official , who had been in his line-of-sight , a verbal blast which was clearly audible to spectators surrounding the 17th green at the masters on thursday .\n",
      "englishman willett vented his anger after his second shot from beyond the green trickled all the way across the putting surface and left the preacher 's son facing a bogey or worse .\n",
      "the 27-year-old englishman carded a one-under 71 during his first ever round at augusta .\n",
      "~*~*~*~*~*~*~*~*~*~*~*~ GENERATED SUMMARY ~*~*~*~*~*~*~*~*~*~*~*\n",
      "danny willett gave a rules official , who had been in his line-of-sight , a verbal blast which was clearly audible to spectators surrounding the 17th green at the masters on thursday .\n",
      "englishman willett vented his anger after his second shot from beyond the green trickled all the way across the putting surface and left the preacher 's son facing a bogey or worse .\n",
      "willett , 27 , a two-time european tour winner , is playing in his first masters .\n",
      "~*~*~*~*~*~*~*~*~* GENERATED SUMMARY (NO DUP) ~*~*~*~*~*~*~*~*~*\n",
      "danny willett gave a rules official , who had been in his line-of-sight , a verbal blast which was clearly audible to spectators surrounding the 17th green at the masters on thursday .\n",
      "englishman willett vented his anger after his second shot from beyond the green trickled all the way across the putting surface and left the preacher 's son facing a bogey or worse .\n",
      "willett , 27 , a two-time european tour winner , is playing in his first masters .\n"
     ]
    }
   ],
   "source": [
    "model_wrapper.comprehensive_test(data3_text, data3_summary, data3_label, 55)"
   ]
  },
  {
   "cell_type": "code",
   "execution_count": 21,
   "metadata": {},
   "outputs": [
    {
     "name": "stdout",
     "output_type": "stream",
     "text": [
      "DATA INDEX: 91\n",
      "~*~*~*~*~*~*~*~*~*~*~*~*~ GROUND TRUTH ~*~*~*~*~*~*~*~*~*~*~*~*~\n",
      "edwin 'jock ' mee allegedly told 18-year-old she had visa problems .\n",
      "he told her he could make a call and help her stay in britain , court hears .\n",
      "sergeant then allegedly attacked the teenager and nearly suffocated her .\n",
      "mee , 46 , denies carrying out a string of rapes and sexual assaults .\n",
      "*~*~*~*~*~*~*~*~*~*~*~*~ LABELED SUMMARY ~*~*~*~*~*~*~*~*~*~*~*~\n",
      "edwin 'jock ' mee allegedly told the 18-year-old , from sierra leone , that her visa application had been delayed in order to persuade her to have sex with him .\n",
      "an army recruiting sergeant raped a teenage cadet after telling her he could help her get a visa from the home office , a court heard today .\n",
      "rape : edwin 'jock ' mee is accused of attacking several army cadets while working as a recruitment sergeant .\n",
      "mee , who now lives in scotland , denies 17 counts of sexual assault , three rapes and one count of assault by penetration .\n",
      "~*~*~*~*~*~*~*~*~*~*~*~ GENERATED SUMMARY ~*~*~*~*~*~*~*~*~*~*~*\n",
      "edwin 'jock ' mee allegedly told the 18-year-old , from sierra leone , that her visa application had been delayed in order to persuade her to have sex with him .\n",
      "he is accused of carrying out sex attacks on 11 victims as young as 15 while working at an army careers centre in croydon , south london , between october 2010 and september 2011 .\n",
      "he is accused of carrying out sex attacks on 11 victims as young as 15 while working at an army careers centre in croydon , south london , between october 2010 and september 2011 .\n",
      "he is accused of carrying out sex attacks on 11 victims as young as 15 while working at an army careers centre in croydon , south london , between october 2010 and september 2011 .\n",
      "~*~*~*~*~*~*~*~*~* GENERATED SUMMARY (NO DUP) ~*~*~*~*~*~*~*~*~*\n",
      "edwin 'jock ' mee allegedly told the 18-year-old , from sierra leone , that her visa application had been delayed in order to persuade her to have sex with him .\n",
      "he is accused of carrying out sex attacks on 11 victims as young as 15 while working at an army careers centre in croydon , south london , between october 2010 and september 2011 .\n",
      "one woman told southwark crown court today that she saw mee , 46 , as a father figure after he helped her join the army .\n",
      "jurors heard that mee repeatedly asked the teenager if she wanted to have sex with him - she initially ignored him , but later explicitly told him she did not want to do .\n"
     ]
    }
   ],
   "source": [
    "model_wrapper.comprehensive_test(data4_text, data4_summary, data4_label, 91)"
   ]
  },
  {
   "cell_type": "code",
   "execution_count": 22,
   "metadata": {},
   "outputs": [
    {
     "name": "stdout",
     "output_type": "stream",
     "text": [
      "DATA INDEX: 16\n",
      "~*~*~*~*~*~*~*~*~*~*~*~*~ GROUND TRUTH ~*~*~*~*~*~*~*~*~*~*~*~*~\n",
      "arsenal take on stoke city in barclays under 21 premier league clash .\n",
      "jack wilshere and club captain mikel arteta have been out since november .\n",
      "abou diaby has been ravaged by injuries during nine-year spell at club .\n",
      "arteta , wilshere and diaby are all close to first-team returns .\n",
      "young winger serge gnabry also in the side on return from injury .\n",
      "read : arsenal 's alex oxlade-chamberlain , calum chambers , jack wilshere and danny welbeck keep their agents close .\n",
      "click here for all the latest arsenal news .\n",
      "*~*~*~*~*~*~*~*~*~*~*~*~ LABELED SUMMARY ~*~*~*~*~*~*~*~*~*~*~*~\n",
      "steve gatting 's young gunners take on stoke city at the emirates stadium in a u21 premier league clash .\n",
      "arsenal 's midfield trio jack wilshere , mikel arteta and abou diaby have all been handed starts for the club 's under 21s game on tuesday night as they continue their respective recoveries from injury .\n",
      "abou diaby has been blighted by injuries for the best part of a decade but played last week in a friendly .\n",
      "iliev , maitland-niles , o ’ connor , bielik , ormonde-ottewill , diaby , arteta , gnabry , wilshere , crowley , iwobi .\n",
      "teenage winger serge gnabry is also in the starting line-up , alongside a host of promising youngsters including dan crowley .\n",
      "jack wilshere , pictured in first team training last week , starts for arsenal under 21s on tuesday night .\n",
      "wilshere watched arsenal beat liverpool 4-1 in the premier league from the stands on saturday afternoon .\n",
      "~*~*~*~*~*~*~*~*~*~*~*~ GENERATED SUMMARY ~*~*~*~*~*~*~*~*~*~*~*\n",
      "england star wilshere scored the opening goal and created another against a brentford development xi .\n",
      "mathieu debuchy and mathieu flamini also appeared in that game , though both are now closer to first team action with the latter coming on against liverpool on saturday .\n",
      "wilshere has been out of action since november after breaking his foot against manchester united , as has club captain arteta who picked up an ankle injury at home to borussia dortmund .\n",
      "iliev , maitland-niles , o ’ connor , bielik , ormonde-ottewill , diaby , arteta , gnabry , wilshere , crowley , iwobi .\n",
      "teenage winger serge gnabry is also in the starting line-up , alongside a host of promising youngsters including dan crowley .\n",
      "jack wilshere , pictured in first team training last week , starts for arsenal under 21s on tuesday night .\n",
      "club captain mikel arteta ( left ) is also in the team to play against stoke city at the emirates stadium .\n"
     ]
    }
   ],
   "source": [
    "base_model_wrapper.comprehensive_test(data1_text, data1_summary, data1_label, 16)"
   ]
  },
  {
   "cell_type": "code",
   "execution_count": 23,
   "metadata": {},
   "outputs": [
    {
     "name": "stdout",
     "output_type": "stream",
     "text": [
      "DATA INDEX: 25\n",
      "~*~*~*~*~*~*~*~*~*~*~*~*~ GROUND TRUTH ~*~*~*~*~*~*~*~*~*~*~*~*~\n",
      "farage claims pm has been secretly using hair dye to turn back the years .\n",
      "he said : 'any man who can reverse the greying process i ’ m jealous of' the pm has been accused of visiting stylists to keep hair looking youthful .\n",
      "*~*~*~*~*~*~*~*~*~*~*~*~ LABELED SUMMARY ~*~*~*~*~*~*~*~*~*~*~*~\n",
      "david cameron has been secretly using hair dye to turn back the years nigel farage suggested today .\n",
      "some people it worries to death and others really don ’ t worry too much. ’ mr cameron , 48 , has previously been accused of visiting stylists and even trichologists to keep his hair looking youthful .\n",
      "~*~*~*~*~*~*~*~*~*~*~*~ GENERATED SUMMARY ~*~*~*~*~*~*~*~*~*~*~*\n",
      "a tory party spokesman last night refused to comment on whether mr cameron dyes his hair .\n",
      "‘ i promise you he has not dyed his hair , ’ a spokesman said .\n"
     ]
    }
   ],
   "source": [
    "base_model_wrapper.comprehensive_test(data2_text, data2_summary, data2_label, 25)"
   ]
  },
  {
   "cell_type": "code",
   "execution_count": 24,
   "metadata": {},
   "outputs": [
    {
     "name": "stdout",
     "output_type": "stream",
     "text": [
      "DATA INDEX: 55\n",
      "~*~*~*~*~*~*~*~*~*~*~*~*~ GROUND TRUTH ~*~*~*~*~*~*~*~*~*~*~*~*~\n",
      "englishman danny willett blasts timing referee for getting in line-of-sight .\n",
      "vented anger at official as he bogeyed the 17th at 2015 masters .\n",
      "willett carded a one-under 71 on opening round in first time at augusta .\n",
      "*~*~*~*~*~*~*~*~*~*~*~*~ LABELED SUMMARY ~*~*~*~*~*~*~*~*~*~*~*~\n",
      "danny willett gave a rules official , who had been in his line-of-sight , a verbal blast which was clearly audible to spectators surrounding the 17th green at the masters on thursday .\n",
      "englishman willett vented his anger after his second shot from beyond the green trickled all the way across the putting surface and left the preacher 's son facing a bogey or worse .\n",
      "the 27-year-old englishman carded a one-under 71 during his first ever round at augusta .\n",
      "~*~*~*~*~*~*~*~*~*~*~*~ GENERATED SUMMARY ~*~*~*~*~*~*~*~*~*~*~*\n",
      "'we were being timed ( for slow play ) , which i can appreciate , ' willett said after carding a one-under 71 at augusta national .\n",
      "he said his ire had been raised because the official had been in his line-of-sight as he was preparing to play his shot .\n",
      "willett was still visibly angry as he left the green after salvaging a bogey , though he had calmed down by time he spoke to reporters about 30 minutes later .\n"
     ]
    }
   ],
   "source": [
    "base_model_wrapper.comprehensive_test(data3_text, data3_summary, data3_label, 55)"
   ]
  },
  {
   "cell_type": "code",
   "execution_count": 25,
   "metadata": {},
   "outputs": [
    {
     "name": "stdout",
     "output_type": "stream",
     "text": [
      "DATA INDEX: 91\n",
      "~*~*~*~*~*~*~*~*~*~*~*~*~ GROUND TRUTH ~*~*~*~*~*~*~*~*~*~*~*~*~\n",
      "edwin 'jock ' mee allegedly told 18-year-old she had visa problems .\n",
      "he told her he could make a call and help her stay in britain , court hears .\n",
      "sergeant then allegedly attacked the teenager and nearly suffocated her .\n",
      "mee , 46 , denies carrying out a string of rapes and sexual assaults .\n",
      "*~*~*~*~*~*~*~*~*~*~*~*~ LABELED SUMMARY ~*~*~*~*~*~*~*~*~*~*~*~\n",
      "edwin 'jock ' mee allegedly told the 18-year-old , from sierra leone , that her visa application had been delayed in order to persuade her to have sex with him .\n",
      "an army recruiting sergeant raped a teenage cadet after telling her he could help her get a visa from the home office , a court heard today .\n",
      "rape : edwin 'jock ' mee is accused of attacking several army cadets while working as a recruitment sergeant .\n",
      "mee , who now lives in scotland , denies 17 counts of sexual assault , three rapes and one count of assault by penetration .\n",
      "~*~*~*~*~*~*~*~*~*~*~*~ GENERATED SUMMARY ~*~*~*~*~*~*~*~*~*~*~*\n",
      "jurors heard that soon afterwards , the alleged victim received a letter from the home office saying her visa had been granted , and she thought mee had been responsible for this .\n",
      "the woman said she kept quiet about what happened because he was ' a big person in the army ' and she did not think anyone would believe her .\n",
      "'and i told him that i was suffocating , he got scared a bit and that is when he jumped off me , because i was n't breathing . '\n",
      "after the incident mee drove the woman home , telling her not to tell anyone what had happened , and said that he was helping her out , the court heard .\n"
     ]
    }
   ],
   "source": [
    "base_model_wrapper.comprehensive_test(data4_text, data4_summary, data4_label, 91)"
   ]
  }
 ],
 "metadata": {
  "interpreter": {
   "hash": "fcf1d46d271c46101d6967829d4a5f475342a2ce08e4944f989fbcdc9bb23690"
  },
  "kernelspec": {
   "display_name": "Python 3.9.10 64-bit",
   "language": "python",
   "name": "python3"
  },
  "language_info": {
   "codemirror_mode": {
    "name": "ipython",
    "version": 3
   },
   "file_extension": ".py",
   "mimetype": "text/x-python",
   "name": "python",
   "nbconvert_exporter": "python",
   "pygments_lexer": "ipython3",
   "version": "3.9.10"
  },
  "orig_nbformat": 4
 },
 "nbformat": 4,
 "nbformat_minor": 2
}
